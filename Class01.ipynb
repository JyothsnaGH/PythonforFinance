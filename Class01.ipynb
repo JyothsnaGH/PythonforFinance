{
  "nbformat": 4,
  "nbformat_minor": 0,
  "metadata": {
    "colab": {
      "provenance": [],
      "authorship_tag": "ABX9TyMAeUbzIrQdvh+4vdC4aStj",
      "include_colab_link": true
    },
    "kernelspec": {
      "name": "python3",
      "display_name": "Python 3"
    },
    "language_info": {
      "name": "python"
    }
  },
  "cells": [
    {
      "cell_type": "markdown",
      "metadata": {
        "id": "view-in-github",
        "colab_type": "text"
      },
      "source": [
        "<a href=\"https://colab.research.google.com/github/JyothsnaGH/PythonforFinance/blob/main/Class01.ipynb\" target=\"_parent\"><img src=\"https://colab.research.google.com/assets/colab-badge.svg\" alt=\"Open In Colab\"/></a>"
      ]
    },
    {
      "cell_type": "markdown",
      "source": [
        "##**PYTHON FOR FINANCE Week 01**"
      ],
      "metadata": {
        "id": "aOft7iK9vrkU"
      }
    },
    {
      "cell_type": "markdown",
      "source": [
        "## Beauty of Colab.\n",
        "\n",
        "1.   Colab is a **cloud-based platform** that provides a pre-configured Python environment, so you can start writing and running Python code directly in your browser without any local installations of Python required.\n",
        "2.   The only thing you will need to install are python packages.\n",
        "\n",
        "\n"
      ],
      "metadata": {
        "id": "ajs_Ig22wBEX"
      }
    },
    {
      "cell_type": "markdown",
      "source": [
        "## Arithmetic Examples"
      ],
      "metadata": {
        "id": "usW5dXOAVwRa"
      }
    },
    {
      "cell_type": "code",
      "execution_count": null,
      "metadata": {
        "id": "hTCNg73JbyKF",
        "colab": {
          "base_uri": "https://localhost:8080/"
        },
        "outputId": "949a4a2d-8ae6-452e-afed-ba27a2fa51fd"
      },
      "outputs": [
        {
          "output_type": "execute_result",
          "data": {
            "text/plain": [
              "10"
            ]
          },
          "metadata": {},
          "execution_count": 1
        }
      ],
      "source": [
        "# You can make comments with hashtags. Comments are not code and will not provide any output\n",
        "\n",
        "#For example:\n",
        "# 5+5 #produces no output. However, remove the pound symbol (#) and:\n",
        "5+5"
      ]
    },
    {
      "cell_type": "code",
      "source": [
        "5*5 # you can either press the 'play' button to run, or as a shortcut, use Shift+Enter or CMD+Return"
      ],
      "metadata": {
        "id": "YdxFIXO4lZze",
        "colab": {
          "base_uri": "https://localhost:8080/"
        },
        "outputId": "c7b6b76d-4a29-43d5-d40b-994ac3fdf67d"
      },
      "execution_count": null,
      "outputs": [
        {
          "output_type": "execute_result",
          "data": {
            "text/plain": [
              "25"
            ]
          },
          "metadata": {},
          "execution_count": 5
        }
      ]
    },
    {
      "cell_type": "code",
      "source": [
        "print(75/4)\n",
        "print(75//4) # Floor\n",
        "print(75%4) # Modulo (%): Returns the remainder of the division.\n",
        "print(5**2) # Exponentiation (**): Raises the left operand to the power of the right operand."
      ],
      "metadata": {
        "id": "8Ysck5fxlZ8P",
        "colab": {
          "base_uri": "https://localhost:8080/"
        },
        "outputId": "9d00c162-a784-4fd2-8415-b709e3f19272"
      },
      "execution_count": null,
      "outputs": [
        {
          "output_type": "stream",
          "name": "stdout",
          "text": [
            "18.75\n",
            "18\n",
            "3\n",
            "25\n"
          ]
        }
      ]
    },
    {
      "cell_type": "markdown",
      "source": [
        "# You can also print strings, like sentences"
      ],
      "metadata": {
        "id": "frCD3QoxPNod"
      }
    },
    {
      "cell_type": "code",
      "source": [
        "# This Works with Python 3 kernel.\n",
        "print ('Hello, World!')"
      ],
      "metadata": {
        "colab": {
          "base_uri": "https://localhost:8080/"
        },
        "id": "PJ7yah2-PSMS",
        "outputId": "239dcb4d-9fde-4a49-8cc1-e76d49fa7498"
      },
      "execution_count": null,
      "outputs": [
        {
          "output_type": "stream",
          "name": "stdout",
          "text": [
            "Hello, World!\n"
          ]
        }
      ]
    },
    {
      "cell_type": "code",
      "source": [
        "x = 10\n",
        "y = \"40\"\n",
        "\n",
        "x+int(y) # Convert y to an integer before performing arithmetic operations."
      ],
      "metadata": {
        "colab": {
          "base_uri": "https://localhost:8080/"
        },
        "id": "i6aD1vCsPWQu",
        "outputId": "99fa13b0-6392-42f8-a72f-c7fa3c8dc0b9"
      },
      "execution_count": null,
      "outputs": [
        {
          "output_type": "execute_result",
          "data": {
            "text/plain": [
              "50"
            ]
          },
          "metadata": {},
          "execution_count": 7
        }
      ]
    },
    {
      "cell_type": "code",
      "source": [
        "(7 - 3) * 0.5 / 3.5\n",
        "4+3**2\n",
        "(4+3)**2"
      ],
      "metadata": {
        "colab": {
          "base_uri": "https://localhost:8080/"
        },
        "id": "U9njEP6cPWTh",
        "outputId": "37e1d44c-a45e-4ddc-c640-fa6e4bee9dfa"
      },
      "execution_count": null,
      "outputs": [
        {
          "output_type": "execute_result",
          "data": {
            "text/plain": [
              "18.75"
            ]
          },
          "metadata": {},
          "execution_count": 10
        }
      ]
    },
    {
      "cell_type": "code",
      "source": [
        "x = 5\n",
        "y = 5\n",
        "print(\"The result of x and y being equal is\", x==y)\n",
        "\n",
        "8%2 == 0"
      ],
      "metadata": {
        "colab": {
          "base_uri": "https://localhost:8080/"
        },
        "id": "F-jM3JExPWW8",
        "outputId": "82b43a4e-ccd1-4eb5-c41e-35776858ed71"
      },
      "execution_count": null,
      "outputs": [
        {
          "output_type": "stream",
          "name": "stdout",
          "text": [
            "The result of x and y being equal is True\n"
          ]
        },
        {
          "output_type": "execute_result",
          "data": {
            "text/plain": [
              "True"
            ]
          },
          "metadata": {},
          "execution_count": 19
        }
      ]
    },
    {
      "cell_type": "code",
      "source": [
        "school = 'suny'\n",
        "school = school.upper()\n",
        "village = 'geneseo'\n",
        "village = village.capitalize()\n",
        "x = \"ROCKS!\"\n",
        "x = x.lower()\n",
        "\n",
        "school + \" \" + village + \" \" + x\n",
        "\n",
        "x1 = \"Haters gonna \"\n",
        "x2 = \"hate \"\n",
        "\n",
        "x1 + x2 * 5"
      ],
      "metadata": {
        "colab": {
          "base_uri": "https://localhost:8080/",
          "height": 35
        },
        "id": "yMMSANO-PWZy",
        "outputId": "2584a5f1-15a5-4f51-c679-3ae7f7a57593"
      },
      "execution_count": null,
      "outputs": [
        {
          "output_type": "execute_result",
          "data": {
            "text/plain": [
              "'SUNY Geneseo rocks!'"
            ],
            "application/vnd.google.colaboratory.intrinsic+json": {
              "type": "string"
            }
          },
          "metadata": {},
          "execution_count": 7
        }
      ]
    },
    {
      "cell_type": "code",
      "source": [
        "x = \"Use a backslash n or \\n create a new line\"\n",
        "x"
      ],
      "metadata": {
        "colab": {
          "base_uri": "https://localhost:8080/",
          "height": 35
        },
        "id": "b8um-J7sT0xi",
        "outputId": "2d8c6b54-72fd-4584-f55e-448a97c8c8a8"
      },
      "execution_count": null,
      "outputs": [
        {
          "output_type": "execute_result",
          "data": {
            "text/plain": [
              "'Use a backslash n or \\n create a new line'"
            ],
            "application/vnd.google.colaboratory.intrinsic+json": {
              "type": "string"
            }
          },
          "metadata": {},
          "execution_count": 22
        }
      ]
    },
    {
      "cell_type": "code",
      "source": [
        "x1 = \"we need \"\n",
        "x2 = 45\n",
        "x3 = \" scientists to address us at this panel.\"\n",
        "print(x1 + str(x2) + x3)\n",
        "print(x1,x2,x3)"
      ],
      "metadata": {
        "colab": {
          "base_uri": "https://localhost:8080/"
        },
        "id": "uubKCoMzVKKI",
        "outputId": "9ccd2a0c-d54c-407b-87b4-b0708e5bc7a4"
      },
      "execution_count": null,
      "outputs": [
        {
          "output_type": "stream",
          "name": "stdout",
          "text": [
            "we need 45 scientists to address us at this panel.\n",
            "we need  45  scientists to address us at this panel.\n"
          ]
        }
      ]
    },
    {
      "cell_type": "code",
      "source": [
        "#This will install the package matplotlib (or really check that it is installed because it is by default.)\n",
        "!pip install  matplotlib"
      ],
      "metadata": {
        "id": "lbJaKFsRlaI3",
        "colab": {
          "base_uri": "https://localhost:8080/"
        },
        "outputId": "c860baf4-24f6-44ca-d6cf-9c82bb6aee87"
      },
      "execution_count": null,
      "outputs": [
        {
          "output_type": "stream",
          "name": "stdout",
          "text": [
            "Requirement already satisfied: matplotlib in /usr/local/lib/python3.11/dist-packages (3.10.0)\n",
            "Requirement already satisfied: contourpy>=1.0.1 in /usr/local/lib/python3.11/dist-packages (from matplotlib) (1.3.1)\n",
            "Requirement already satisfied: cycler>=0.10 in /usr/local/lib/python3.11/dist-packages (from matplotlib) (0.12.1)\n",
            "Requirement already satisfied: fonttools>=4.22.0 in /usr/local/lib/python3.11/dist-packages (from matplotlib) (4.55.3)\n",
            "Requirement already satisfied: kiwisolver>=1.3.1 in /usr/local/lib/python3.11/dist-packages (from matplotlib) (1.4.8)\n",
            "Requirement already satisfied: numpy>=1.23 in /usr/local/lib/python3.11/dist-packages (from matplotlib) (1.26.4)\n",
            "Requirement already satisfied: packaging>=20.0 in /usr/local/lib/python3.11/dist-packages (from matplotlib) (24.2)\n",
            "Requirement already satisfied: pillow>=8 in /usr/local/lib/python3.11/dist-packages (from matplotlib) (11.1.0)\n",
            "Requirement already satisfied: pyparsing>=2.3.1 in /usr/local/lib/python3.11/dist-packages (from matplotlib) (3.2.1)\n",
            "Requirement already satisfied: python-dateutil>=2.7 in /usr/local/lib/python3.11/dist-packages (from matplotlib) (2.8.2)\n",
            "Requirement already satisfied: six>=1.5 in /usr/local/lib/python3.11/dist-packages (from python-dateutil>=2.7->matplotlib) (1.17.0)\n"
          ]
        }
      ]
    },
    {
      "cell_type": "code",
      "source": [
        "!pip install  numpy\n",
        "!pip install  pandas\n",
        "!pip install  scikit-learn"
      ],
      "metadata": {
        "colab": {
          "base_uri": "https://localhost:8080/"
        },
        "id": "2-kCOb5uJqS1",
        "outputId": "b5bbd9fe-73ed-423a-f50f-bd46d92d8d4a"
      },
      "execution_count": 3,
      "outputs": [
        {
          "output_type": "stream",
          "name": "stdout",
          "text": [
            "Requirement already satisfied: scikit-learn in /usr/local/lib/python3.11/dist-packages (1.6.1)\n",
            "Requirement already satisfied: numpy>=1.19.5 in /usr/local/lib/python3.11/dist-packages (from scikit-learn) (1.26.4)\n",
            "Requirement already satisfied: scipy>=1.6.0 in /usr/local/lib/python3.11/dist-packages (from scikit-learn) (1.13.1)\n",
            "Requirement already satisfied: joblib>=1.2.0 in /usr/local/lib/python3.11/dist-packages (from scikit-learn) (1.4.2)\n",
            "Requirement already satisfied: threadpoolctl>=3.1.0 in /usr/local/lib/python3.11/dist-packages (from scikit-learn) (3.5.0)\n"
          ]
        }
      ]
    }
  ]
}