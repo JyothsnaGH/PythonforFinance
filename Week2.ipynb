{
  "nbformat": 4,
  "nbformat_minor": 0,
  "metadata": {
    "colab": {
      "provenance": [],
      "authorship_tag": "ABX9TyPwKNFoHoMJv1VmK1o4mVTr",
      "include_colab_link": true
    },
    "kernelspec": {
      "name": "python3",
      "display_name": "Python 3"
    },
    "language_info": {
      "name": "python"
    }
  },
  "cells": [
    {
      "cell_type": "markdown",
      "metadata": {
        "id": "view-in-github",
        "colab_type": "text"
      },
      "source": [
        "<a href=\"https://colab.research.google.com/github/JyothsnaGH/PythonforFinance/blob/main/Week2.ipynb\" target=\"_parent\"><img src=\"https://colab.research.google.com/assets/colab-badge.svg\" alt=\"Open In Colab\"/></a>"
      ]
    },
    {
      "cell_type": "markdown",
      "source": [
        "## Conditional Statements, Looping"
      ],
      "metadata": {
        "id": "ORa1EpDTz9Wb"
      }
    },
    {
      "cell_type": "code",
      "execution_count": null,
      "metadata": {
        "id": "qjvFQuHmz20-"
      },
      "outputs": [],
      "source": [
        "'''The BDFL (Benevolent Dictator for Life) has a good sense of humor. Each package that you install needs to be imported before you can use it.\n",
        "# Look what happens when you import a package called 'this'. It prints the Zen of Python - a rulebook for writing IF statements'''\n",
        "\n",
        "import this"
      ]
    },
    {
      "cell_type": "markdown",
      "source": [
        "## Let us start with IF loops.\n",
        "\n",
        "Before that, we need to understand Indentation in Python\n",
        "\n",
        "Indentation has a very specific role in Python and is important!\n",
        "\n",
        "It is used as alternative to parenthesis, and getting it wrong will cause errors.\n",
        "IF Statements and Indentation\n",
        "- The syntax for control structures in Python use _colons_ and _indentation_."
      ],
      "metadata": {
        "id": "6vChUFZQSrk7"
      }
    },
    {
      "cell_type": "code",
      "source": [
        "y = -2\n",
        "x = 10\n",
        "if x > 0:\n",
        "    print ('x is strictly positive')\n",
        "    print (x)\n",
        "# print ('Finished.', x, y)\n",
        "\n",
        "if y < 0:\n",
        "    print ('y is strictly negative, its value is: ', y)\n",
        "    print (y)"
      ],
      "metadata": {
        "colab": {
          "base_uri": "https://localhost:8080/"
        },
        "id": "6Rjygzf90TG_",
        "outputId": "c236fa64-02b2-42f3-cd46-4c3e1487de35"
      },
      "execution_count": 8,
      "outputs": [
        {
          "output_type": "stream",
          "name": "stdout",
          "text": [
            "x is strictly positive\n",
            "10\n",
            "y is strictly negative, its value is:  -2\n",
            "-2\n"
          ]
        }
      ]
    },
    {
      "cell_type": "code",
      "source": [
        "print(\"What is the temperature outside?\")\n",
        "temperature = int(input())\n",
        "\n",
        "if temperature < -10 or temperature > 30:\n",
        "    print(\"Extreme weather of\", temperature, \"degrees Celsius8\")\n",
        "\n",
        "print(\"What is the price of this item?\")\n",
        "value = int(input())\n",
        "\n",
        "if not value > 10:\n",
        "    print(\"value not greater than 10\")\n",
        "\n",
        "print(\"What is your age?\")\n",
        "age = int(input())\n",
        "\n",
        "print(\"What country do you belong to?\")\n",
        "country = input()\n",
        "\n",
        "if int(age) >= 18 and country == \"Germany\":\n",
        "    print(\"You may drink alcohol\")"
      ],
      "metadata": {
        "colab": {
          "base_uri": "https://localhost:8080/"
        },
        "id": "O9HcHjyVFuX5",
        "outputId": "068d6353-8e99-463e-df15-feb37d85a6c8"
      },
      "execution_count": 11,
      "outputs": [
        {
          "name": "stdout",
          "output_type": "stream",
          "text": [
            "What is the temperature outside?\n",
            "25\n",
            "What is the price of this item?\n",
            "15\n",
            "What is your age?\n",
            "25\n",
            "What country do you belong to?\n",
            "USA\n"
          ]
        }
      ]
    },
    {
      "cell_type": "markdown",
      "source": [
        "## Conditional Statements\n",
        "\n",
        "- `if` statemenet enable logic.\n",
        "- `elif` give additional conditions.\n",
        "- `else` gives what to do if other conditions are not met."
      ],
      "metadata": {
        "id": "HPzNwehsT4PZ"
      }
    },
    {
      "cell_type": "code",
      "source": [
        "x = 1\n",
        "y = 0\n",
        "if x > 0:\n",
        "    print ('x is greater than 0')\n",
        "    if y > 0:\n",
        "        print ('& y is also greater than 0')\n",
        "    elif y<0:\n",
        "        print ('& y is less than 0')\n",
        "    else:\n",
        "        print ('& y is equal to 0')\n",
        "print (\"x: \",x)\n",
        "print ('Finished.')"
      ],
      "metadata": {
        "colab": {
          "base_uri": "https://localhost:8080/"
        },
        "id": "b-QLL_A61IDY",
        "outputId": "3412f4eb-03b7-42fb-be0b-33e8a6d6d6f8"
      },
      "execution_count": null,
      "outputs": [
        {
          "output_type": "stream",
          "name": "stdout",
          "text": [
            "x is greater than 0\n",
            "& y is equal to 0\n",
            "x:  1\n",
            "Finished.\n"
          ]
        }
      ]
    },
    {
      "cell_type": "markdown",
      "source": [
        "# Try printing each of these. Play around with the value of x\n",
        "\n"
      ],
      "metadata": {
        "id": "xU8JG5tNIMLn"
      }
    },
    {
      "cell_type": "code",
      "source": [
        "x = 4\n",
        "x != 5\n",
        "x > 0\n",
        "x==5"
      ],
      "metadata": {
        "colab": {
          "base_uri": "https://localhost:8080/"
        },
        "id": "9pSOq_NwILTo",
        "outputId": "6c902131-9357-4aa2-aa7f-bc7ebb812a78"
      },
      "execution_count": null,
      "outputs": [
        {
          "output_type": "execute_result",
          "data": {
            "text/plain": [
              "False"
            ]
          },
          "metadata": {},
          "execution_count": 24
        }
      ]
    },
    {
      "cell_type": "markdown",
      "source": [
        "## Python Conditionals (Alt Syntax)"
      ],
      "metadata": {
        "id": "J8qn5jpnJpku"
      }
    },
    {
      "cell_type": "code",
      "source": [
        "x=0\n",
        "z = 5 if x > 0 else 0\n",
        "print(z)"
      ],
      "metadata": {
        "id": "1341t7l4ILbM"
      },
      "execution_count": null,
      "outputs": []
    },
    {
      "cell_type": "code",
      "source": [
        "# This is a form of if statement called ternary conditional operator\n",
        "x=1\n",
        "#The first value is the value if the conditional is false\n",
        "z=(0, 5)[x>0]\n",
        "print(z)"
      ],
      "metadata": {
        "id": "7uxSr-yhILdg"
      },
      "execution_count": null,
      "outputs": []
    },
    {
      "cell_type": "markdown",
      "source": [
        "## FOR Statement"
      ],
      "metadata": {
        "id": "gGK-citbRPY-"
      }
    },
    {
      "cell_type": "code",
      "source": [
        "#Here we are iterating on lists.\n",
        "sum=0\n",
        "for ad in [1, 2, 3]:\n",
        "    sum+=ad    #This is short hand for sum = sum+ad\n",
        "    print(sum)\n",
        "\n",
        "for country in ['England', 'Spain', 'India']:\n",
        "    print(country)"
      ],
      "metadata": {
        "id": "w9ZucU9sILf2",
        "colab": {
          "base_uri": "https://localhost:8080/"
        },
        "outputId": "3d72dad7-e10a-44e0-aa3b-e71dab8d2042"
      },
      "execution_count": 1,
      "outputs": [
        {
          "output_type": "stream",
          "name": "stdout",
          "text": [
            "1\n",
            "3\n",
            "6\n",
            "England\n",
            "Spain\n",
            "India\n"
          ]
        }
      ]
    },
    {
      "cell_type": "code",
      "source": [
        "x=[0,1,2]\n",
        "y=['a','b','c']\n",
        "#Nested for loops\n",
        "for a in x:\n",
        "    for b in y:\n",
        "        print(a,b)"
      ],
      "metadata": {
        "id": "R7ANRkUwILid"
      },
      "execution_count": null,
      "outputs": []
    },
    {
      "cell_type": "code",
      "source": [
        "#Range is a built in function that can be passed to a for loop\n",
        "#https://docs.python.org/3/library/functions.html#func-range\n",
        "#Range accepts a number and a (start/stop/step) like the arrange command.\n",
        "z=range(5)\n",
        "print(z, type(z))\n",
        "#Range\n",
        "for i in z:\n",
        "    print('Print five')\n",
        "for i in range(4):\n",
        "    print('Print four more')\n",
        "for i in range(5,20,2):\n",
        "    print('i: %d is the value' % (i))\n",
        "    print(f'i:{i}  is the value' ) #This is an alternate way of embedding values in text."
      ],
      "metadata": {
        "id": "PK8CKby7ILlU",
        "colab": {
          "base_uri": "https://localhost:8080/"
        },
        "outputId": "97421bbd-26bb-47ca-d2c5-7ab516555a9e"
      },
      "execution_count": 3,
      "outputs": [
        {
          "output_type": "stream",
          "name": "stdout",
          "text": [
            "range(0, 5) <class 'range'>\n",
            "Print five\n",
            "Print five\n",
            "Print five\n",
            "Print five\n",
            "Print five\n",
            "Print four more\n",
            "Print four more\n",
            "Print four more\n",
            "Print four more\n",
            "i: 5 is the value\n",
            "i:5  is the value\n",
            "i: 7 is the value\n",
            "i:7  is the value\n",
            "i: 9 is the value\n",
            "i:9  is the value\n",
            "i: 11 is the value\n",
            "i:11  is the value\n",
            "i: 13 is the value\n",
            "i:13  is the value\n",
            "i: 15 is the value\n",
            "i:15  is the value\n",
            "i: 17 is the value\n",
            "i:17  is the value\n",
            "i: 19 is the value\n",
            "i:19  is the value\n"
          ]
        }
      ]
    },
    {
      "cell_type": "code",
      "source": [],
      "metadata": {
        "id": "mKcM_gWzSD3m"
      },
      "execution_count": null,
      "outputs": []
    },
    {
      "cell_type": "code",
      "execution_count": null,
      "metadata": {
        "id": "wJw7qHU-RDuj",
        "outputId": "306503df-413d-455e-ddfe-96019c7d3d40"
      },
      "outputs": [
        {
          "data": {
            "text/plain": [
              "[0, 1, 4, 9, 16, 25, 36, 49, 64, 81]"
            ]
          },
          "execution_count": 26,
          "metadata": {},
          "output_type": "execute_result"
        }
      ],
      "source": [
        "#This is the long way of building lists.\n",
        "L = []\n",
        "for n in range(10):\n",
        "    L.append(n ** 2)\n",
        "L"
      ]
    },
    {
      "cell_type": "code",
      "execution_count": null,
      "metadata": {
        "id": "rx6DWngLRDuj",
        "outputId": "07a7f9b0-1e7a-42ca-d9f4-24ebb0ad7884"
      },
      "outputs": [
        {
          "data": {
            "text/plain": [
              "[0, 1, 4, 9, 16, 25, 36, 49, 64, 81]"
            ]
          },
          "execution_count": 22,
          "metadata": {},
          "output_type": "execute_result"
        }
      ],
      "source": [
        "#With list comprehension.\n",
        "L=[n ** 2 for n in range(10)]\n",
        "L"
      ]
    },
    {
      "cell_type": "code",
      "execution_count": null,
      "metadata": {
        "id": "mYqcDLVVRDuj",
        "outputId": "655801d8-28aa-49a0-9a5a-36d643befead"
      },
      "outputs": [
        {
          "data": {
            "text/plain": [
              "[0, 3, 6, 9, 12, 15, 18]"
            ]
          },
          "execution_count": 28,
          "metadata": {},
          "output_type": "execute_result"
        }
      ],
      "source": [
        "#Any actions are on left side, any conditionals on right side\n",
        "[i for i in range(20) if i % 3 == 0]"
      ]
    },
    {
      "cell_type": "markdown",
      "metadata": {
        "id": "59cIXdk8RDuj"
      },
      "source": [
        "### Multiple Interators\n",
        "- Iterating on multiple values"
      ]
    },
    {
      "cell_type": "code",
      "execution_count": null,
      "metadata": {
        "id": "Bkv96wvnRDuj",
        "outputId": "b66c002c-a8ae-4da6-908a-21f5b96272d0"
      },
      "outputs": [
        {
          "data": {
            "text/plain": [
              "[(0, 0), (0, 1), (0, 2), (1, 0), (1, 1), (1, 2)]"
            ]
          },
          "execution_count": 29,
          "metadata": {},
          "output_type": "execute_result"
        }
      ],
      "source": [
        "[(i, j) for i in range(2) for j in range(3)]"
      ]
    },
    {
      "cell_type": "markdown",
      "metadata": {
        "id": "hKsGVQreRDuj"
      },
      "source": [
        "### Set Comprehension\n",
        "- Remember sets must have unique values."
      ]
    },
    {
      "cell_type": "code",
      "execution_count": null,
      "metadata": {
        "id": "XHGblaFmRDuk",
        "outputId": "5b1de013-5129-4faa-ab8b-f49c5681e225"
      },
      "outputs": [
        {
          "data": {
            "text/plain": [
              "{0, 1, 4, 9, 16, 25}"
            ]
          },
          "execution_count": 30,
          "metadata": {},
          "output_type": "execute_result"
        }
      ],
      "source": [
        "#We can change it to a setby just changing the brackets.\n",
        "{n**2 for n in range(6)}"
      ]
    },
    {
      "cell_type": "markdown",
      "metadata": {
        "id": "puZ7W8vdRDuk"
      },
      "source": [
        "### Dict Comprehension\n",
        "- Remember sets must have unique values."
      ]
    },
    {
      "cell_type": "code",
      "execution_count": null,
      "metadata": {
        "id": "ohkWLtUyRDul",
        "outputId": "1f039d97-5646-4d6c-dfe3-d762f459e947"
      },
      "outputs": [
        {
          "data": {
            "text/plain": [
              "{0: 0, 1: 1, 2: 4, 3: 9, 4: 16, 5: 25}"
            ]
          },
          "execution_count": 30,
          "metadata": {},
          "output_type": "execute_result"
        }
      ],
      "source": [
        "#We can change it to a dictionary by just changing the brackets and adding a colon.\n",
        "{n:n**2 for n in range(6)}"
      ]
    },
    {
      "cell_type": "markdown",
      "metadata": {
        "id": "Bbpfsn13RDul"
      },
      "source": [
        "## While Loops\n",
        "- Performs a loop while a conditional is True.\n",
        "- Doesn't auto-increment.\n"
      ]
    },
    {
      "cell_type": "code",
      "execution_count": null,
      "metadata": {
        "id": "iuPFnLsqRDul",
        "outputId": "90f10d42-742a-41da-ef26-99707700b86d"
      },
      "outputs": [
        {
          "name": "stdout",
          "output_type": "stream",
          "text": [
            "Printing x= 1 sum= 0\n",
            "Printing x= 2 sum= 10\n",
            "Printing x= 3 sum= 20\n",
            "Printing x= 4 sum= 30\n",
            "Printing x= 5 sum= 40\n",
            "Printing x= 6 sum= 50\n",
            "Printing x= 7 sum= 60\n",
            "Printing x= 8 sum= 70\n",
            "Printing x= 9 sum= 80\n"
          ]
        }
      ],
      "source": [
        "# While loop is a very interesting\n",
        "x = 1\n",
        "sum=0\n",
        "while x<10:\n",
        "    print (\"Printing x= %d sum= %d\" % (x, sum)) #Note this alternate way of specufiy\n",
        "    x += 1\n",
        "    sum+=10"
      ]
    },
    {
      "cell_type": "markdown",
      "metadata": {
        "id": "F2VE5cStRDum"
      },
      "source": [
        "## Recoding Variables/Creating Features with `for/if`\n",
        "- Often we want to recode data applying some type of conditional statement to each value of a series, list, or column of a data frame.\n",
        "- [Regular Expressions](https://docs.python.org/3/howto/regex.html) can be useful in recoding"
      ]
    },
    {
      "cell_type": "code",
      "execution_count": null,
      "metadata": {
        "id": "BcaOJa3ZRDum",
        "outputId": "8a0d5b4e-6d1e-4adb-8fe1-5ea6e77d11e9"
      },
      "outputs": [
        {
          "name": "stdout",
          "output_type": "stream",
          "text": [
            "['Survived', 'Survived', 'Survived', 'Died', 'Died', 'Died']\n"
          ]
        }
      ],
      "source": [
        "#Titanic Preview Women and Children first\n",
        "\n",
        "gender=['Female', 'Female','Female', 'Male', 'Male', 'Male' ]\n",
        "age=[75, 45, 15, 1, 45, 4 ]\n",
        "name = ['Ms. Sally White', 'Mrs. Susan King', 'Amanda Russ', 'Rev. John Smith' ]\n",
        "survived=[]\n",
        "for i in range(len(gender)):\n",
        "#This is encoding a simple model that women survived.\n",
        "    if gender[i]=='Female':\n",
        "        survived.append('Survived')\n",
        "    else:\n",
        "        survived.append('Died')\n",
        "print(survived)\n",
        "\n",
        "#BUT, we won't typically be using this type of recoding, so we aren't going to do a lot of exercises on it."
      ]
    }
  ]
}