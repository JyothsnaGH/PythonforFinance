{
  "nbformat": 4,
  "nbformat_minor": 0,
  "metadata": {
    "colab": {
      "provenance": [],
      "authorship_tag": "ABX9TyMeUzfiGdRPkba6CmCAlInN",
      "include_colab_link": true
    },
    "kernelspec": {
      "name": "python3",
      "display_name": "Python 3"
    },
    "language_info": {
      "name": "python"
    }
  },
  "cells": [
    {
      "cell_type": "markdown",
      "metadata": {
        "id": "view-in-github",
        "colab_type": "text"
      },
      "source": [
        "<a href=\"https://colab.research.google.com/github/JyothsnaGH/PythonforFinance/blob/main/HW01_Solutions.ipynb\" target=\"_parent\"><img src=\"https://colab.research.google.com/assets/colab-badge.svg\" alt=\"Open In Colab\"/></a>"
      ]
    },
    {
      "cell_type": "markdown",
      "source": [
        "# HW 01"
      ],
      "metadata": {
        "id": "JaguTAItuC48"
      }
    },
    {
      "cell_type": "markdown",
      "source": [
        "### Q1. Write a program to input your age and print whether you are more than or less than a billion seconds old."
      ],
      "metadata": {
        "id": "8N08oInsuN8g"
      }
    },
    {
      "cell_type": "code",
      "execution_count": 1,
      "metadata": {
        "id": "KlPvWPxRuCVz",
        "colab": {
          "base_uri": "https://localhost:8080/"
        },
        "outputId": "204868ae-858a-4dd8-c84e-08b0d61492e9"
      },
      "outputs": [
        {
          "output_type": "stream",
          "name": "stdout",
          "text": [
            "Enter your age: 25\n",
            "You are less than a billion seconds old.\n"
          ]
        }
      ],
      "source": [
        "## Enter answer here.\n",
        "age = int(input(\"Enter your age: \"))\n",
        "\n",
        "# Calculate age in seconds\n",
        "age_in_seconds = age * 365 * 24 * 60 * 60\n",
        "\n",
        "# Check if age is more or less than a billion seconds\n",
        "if age_in_seconds > 1000000000:\n",
        "    print(\"You are more than a billion seconds old.\")\n",
        "else:\n",
        "    print(\"You are less than a billion seconds old.\")"
      ]
    },
    {
      "cell_type": "markdown",
      "source": [
        "### Q2. Create a list with 10 names. Print each name with a Good morning greeting with the name using a conditional loop.\n",
        "\n",
        "For example\n",
        "\n",
        "`name = ['Ashley', 'Brianna', 'Chetan', 'David', 'Eoin', 'Francois', 'Gemma', 'Hameed', 'Ishaan', 'Joanna']`\n",
        "\n",
        "Outputs will be 'Good morning, Ashley', 'Good morning, Brianna', and so on."
      ],
      "metadata": {
        "id": "X3IPYLTgvnDh"
      }
    },
    {
      "cell_type": "code",
      "source": [
        "## Enter answer here.\n",
        "names = ['Ashley', 'Brianna', 'Chetan', 'David', 'Eoin', 'Francois', 'Gemma', 'Hameed', 'Ishaan', 'Joanna']\n",
        "\n",
        "for name in names:\n",
        "    print(\"Good morning, \" + name)\n"
      ],
      "metadata": {
        "id": "MFG2cvatvmr2",
        "colab": {
          "base_uri": "https://localhost:8080/"
        },
        "outputId": "fbd79d75-6ad7-4372-90c3-1578c27fc425"
      },
      "execution_count": 2,
      "outputs": [
        {
          "output_type": "stream",
          "name": "stdout",
          "text": [
            "Good morning, Ashley\n",
            "Good morning, Brianna\n",
            "Good morning, Chetan\n",
            "Good morning, David\n",
            "Good morning, Eoin\n",
            "Good morning, Francois\n",
            "Good morning, Gemma\n",
            "Good morning, Hameed\n",
            "Good morning, Ishaan\n",
            "Good morning, Joanna\n"
          ]
        }
      ]
    },
    {
      "cell_type": "markdown",
      "source": [
        "### Q3. Create a list of 15 numbers. Print only those numbers that are divisible by 2."
      ],
      "metadata": {
        "id": "niM878Jrx1bf"
      }
    },
    {
      "cell_type": "code",
      "source": [
        "## Enter answer here.\n",
        "num_list = [1,2,3,4,5,6,7,8,9,10,11,12,13,14,15]\n",
        "\n",
        "for num in num_list:\n",
        "    if num%2 == 0:\n",
        "        print(num)\n"
      ],
      "metadata": {
        "id": "m7XjkMn8uUY2",
        "colab": {
          "base_uri": "https://localhost:8080/"
        },
        "outputId": "1daefe3f-93ef-4458-9301-b3b2303bf855"
      },
      "execution_count": 3,
      "outputs": [
        {
          "output_type": "stream",
          "name": "stdout",
          "text": [
            "2\n",
            "4\n",
            "6\n",
            "8\n",
            "10\n",
            "12\n",
            "14\n"
          ]
        }
      ]
    },
    {
      "cell_type": "markdown",
      "source": [
        "### Q4. Print the squared numbers of a list containing at least 10 numbers with a mix of float, integer, and negative numbers. Use the longer method as well as list comprehension.\n",
        "\n",
        "You can either generate your own list of 10 numbers or find use a random number generator."
      ],
      "metadata": {
        "id": "u1kyA9ksy_JI"
      }
    },
    {
      "cell_type": "code",
      "source": [
        "## Enter answer here.\n",
        "\n",
        "nums = [0,-1.25,15.86,-25,3,-4.6,8,10,-12,1.5,30]\n",
        "method1_squares = []\n",
        "\n",
        "for i in nums:\n",
        "    method1_squares.append(i**2)\n",
        "\n",
        "print(method1_squares)\n",
        "\n",
        "## Now method 2\n",
        "method2_squares = []\n",
        "\n",
        "method2_squares=[i**2 for i in nums]\n",
        "print(method2_squares)"
      ],
      "metadata": {
        "colab": {
          "base_uri": "https://localhost:8080/"
        },
        "id": "UFHMdDgEuUbD",
        "outputId": "8836e52a-876c-4a50-8878-36d2edbb1e19"
      },
      "execution_count": 17,
      "outputs": [
        {
          "output_type": "stream",
          "name": "stdout",
          "text": [
            "[0, 1.5625, 251.53959999999998, 625, 9, 21.159999999999997, 64, 100, 144, 2.25, 900]\n",
            "[0, 1.5625, 251.53959999999998, 625, 9, 21.159999999999997, 64, 100, 144, 2.25, 900]\n"
          ]
        }
      ]
    },
    {
      "cell_type": "code",
      "source": [],
      "metadata": {
        "id": "Np-BW3nTL0g0"
      },
      "execution_count": null,
      "outputs": []
    },
    {
      "cell_type": "markdown",
      "source": [
        "### Q5. Write a program to print a year if it is a leap year."
      ],
      "metadata": {
        "id": "0ZBlFovqA7G9"
      }
    },
    {
      "cell_type": "markdown",
      "source": [],
      "metadata": {
        "id": "OK1ctUfqA6mP"
      }
    },
    {
      "cell_type": "code",
      "source": [
        "year = int(input())\n",
        "\n",
        "if year%4 == 0:\n",
        "    print(year, \"is a leap year\")\n",
        "else:\n",
        "    print(year, \"is not a leap year\")"
      ],
      "metadata": {
        "id": "QwfOIh36uUeM",
        "colab": {
          "base_uri": "https://localhost:8080/"
        },
        "outputId": "14bd82d1-7386-469f-8bbb-cb14f3448c4f"
      },
      "execution_count": 4,
      "outputs": [
        {
          "output_type": "stream",
          "name": "stdout",
          "text": [
            "2000\n",
            "2000 is a leap year\n"
          ]
        }
      ]
    },
    {
      "cell_type": "markdown",
      "source": [
        "### Q6. Use list comprehensions to print all names in a list in upper case."
      ],
      "metadata": {
        "id": "_FRSvLlgArOJ"
      }
    },
    {
      "cell_type": "code",
      "source": [
        "names = ['Vasion', 'Olivia', 'Michael', 'Madison', 'Jack', 'Kevin', 'Dillon', 'Rachel', 'Kelly', 'Olivia']\n",
        "uppercase_names = [name.upper() for name in names]\n",
        "print(uppercase_names)"
      ],
      "metadata": {
        "id": "CwPIZcFQuUhD",
        "colab": {
          "base_uri": "https://localhost:8080/"
        },
        "outputId": "f71fcb25-2d00-438c-eaa4-ea8e199d7068"
      },
      "execution_count": 19,
      "outputs": [
        {
          "output_type": "stream",
          "name": "stdout",
          "text": [
            "['VASION', 'OLIVIA', 'MICHAEL', 'MADISON', 'JACK', 'KEVIN', 'DILLON', 'RACHEL', 'KELLY', 'OLIVIA']\n"
          ]
        }
      ]
    },
    {
      "cell_type": "markdown",
      "source": [
        "### Q7. Question on NUMPY arrays:\n",
        "\n",
        "a. Create a numpy array called `original` with 100 random numbers. What is the largest number, smallest number, max, min, median, and standard deviation of your array? Print them.\n",
        "\n",
        "HINT: use `np.random.uniform()`. Check online for the correct syntax. `np.random.rand(100)` will give you 100 random numbers of uniform distribution with mean 0 and standard deviation of 1, while we want a mix of larger numbers/integers.\n",
        "\n",
        "b. Now create an array called `orig_sqrt` which contains the square roots of the numbers in the original array.\n",
        "\n",
        "### Q8.  Converting 1D arrays into 2D arrays.\n",
        "\n",
        "a. Convert your original array of 100 random numbers into a 2-dimensional array called `mat_array` with 20 rows and 5 columns. Print this array.\n",
        "\n",
        "b. What is the mean of every column in `mat_array`?\n",
        "\n",
        "c. What is the sum of every row? Create a list of 20 elements that contains the sum of every row in `mat_array`.\n",
        "\n",
        "d. Create the transpose of `mat_array` and call it `transpose_array`. What are the dimensions of this array now? Again, find the mean of each column and the sum of each row.\n",
        "\n",
        "### Q9. Array slicing:\n",
        "\n",
        "a. create a new array which contains the 3rd-10th rows and all columns of `mat_array`. Print.\n",
        "\n",
        "b. Print a new array which contains the the last 5 rows and the last 2 columns of `mat_array`. What is the dimension of this array?\n",
        "\n",
        "c. Print a new array which contains the first 3 rows and last 10 columns of `transpose_array`."
      ],
      "metadata": {
        "id": "ulp3oxOZHt5r"
      }
    },
    {
      "cell_type": "code",
      "source": [
        "# Write your answer here. Feel free to break your answer into different blocks of code rather than using just this one cell. Label your answer neatly.\n",
        "import numpy as np\n",
        "\n",
        "# Q7\n",
        "# Create a numpy array called original with 100 random numbers.\n",
        "original = np.random.uniform(0,100,100)\n",
        "# original = np.random.randint(0,100,100)\n",
        "\n",
        "print('The largest number:',np.max(original))\n",
        "print('\\n\\nThe smallest number:',np.min(original))\n",
        "print('\\n\\nThe median:',np.median(original))\n",
        "print('\\n\\nThe standard deviation:',np.std(original))\n",
        "\n",
        "orig_sqrt = np.sqrt(original)\n"
      ],
      "metadata": {
        "id": "M6EBbfr7Iaas"
      },
      "execution_count": null,
      "outputs": []
    },
    {
      "cell_type": "markdown",
      "source": [
        "## Question 8: Answer"
      ],
      "metadata": {
        "id": "GnlLI3PIU4cy"
      }
    },
    {
      "cell_type": "code",
      "source": [
        "# Convert your original array of 100 random numbers into a 2-dimensional array called mat_array with 20 rows and 5 columns.\n",
        "\n",
        "mat_array = original.reshape(20, 5)\n",
        "mat_array\n",
        "\n",
        "column_means = np.mean(mat_array, axis=0)\n",
        "row_sums = np.mean(mat_array, axis=1)\n",
        "\n",
        "Trans_mat = mat_array.T\n",
        "Trans_col_means = np.mean(Trans_mat, axis=0)\n",
        "Trans_row_sums = np.sum(Trans_mat, axis=1)\n",
        "Trans_mat.shape"
      ],
      "metadata": {
        "id": "lJWRxuplJ1R-",
        "colab": {
          "base_uri": "https://localhost:8080/"
        },
        "outputId": "90899cd7-f825-4963-98ef-68f370f22ff0"
      },
      "execution_count": 56,
      "outputs": [
        {
          "output_type": "execute_result",
          "data": {
            "text/plain": [
              "(5, 20)"
            ]
          },
          "metadata": {},
          "execution_count": 56
        }
      ]
    },
    {
      "cell_type": "markdown",
      "source": [
        "## Question 9 Answer"
      ],
      "metadata": {
        "id": "U6uOLSyrZn_1"
      }
    },
    {
      "cell_type": "code",
      "source": [
        "array_9a = mat_array[2:10,:]\n",
        "array_9b = mat_array[-5:,-2:]\n",
        "array_9b.shape\n",
        "array_9c = Trans_mat[0:3,-10:]"
      ],
      "metadata": {
        "id": "FDYDgwc1Lyy1",
        "colab": {
          "base_uri": "https://localhost:8080/"
        },
        "outputId": "cfe2d955-0c14-4158-e08e-9a849f8e4522"
      },
      "execution_count": 58,
      "outputs": [
        {
          "output_type": "execute_result",
          "data": {
            "text/plain": [
              "array([[34.06419947, 67.27247599, 28.44143649, 58.22933462, 69.75619101,\n",
              "        66.19866337, 79.37458614, 68.46494771, 26.21764091, 56.94660127],\n",
              "       [15.61212054, 42.00579421, 65.17197899, 71.06209716, 55.79209904,\n",
              "        63.97153074, 93.62362779, 95.51306852, 14.13331718, 86.61527524],\n",
              "       [44.41514114, 76.30819634, 86.28114105, 95.95442073, 92.24885956,\n",
              "        27.14291685,  9.35866432, 61.83062447, 18.55699884, 14.77308166]])"
            ]
          },
          "metadata": {},
          "execution_count": 58
        }
      ]
    },
    {
      "cell_type": "markdown",
      "source": [
        "### Q10. Assume you are inviting 15 friends to your party. You guest list has the following dietary preference.\n",
        "\n",
        "`diet = ['vegetarian', 'pescetarian', 'vegetarian', 'omnivore', 'pescetarian', 'keto', 'keto', 'vegan', 'omnivore', 'omnivore', 'vegan', 'omnivore', 'keto', 'vegetarian', 'vegan']`\n",
        "\n",
        "Their ages are as follows:\n",
        "\n",
        "`age = [21, 20, 19, 25, 27, 18, 23, 25, 19, 22, 20, 20, 23, 21, 24]`\n",
        "\n",
        "Create a list called `menu` which will contain 'veg. fried rice with whiskey' for vegans and vegetarians aged 21 and above,  'veg. fried rice with mocktail' for vegans and vegetarians aged below 21. Follow the same logic and assign fish and white wine to pescetarians of legal age (and fish with mocktail to those below 21). Keto and omnivore guests above 21 will have 'steak and red wine'. Complete the series with the appropriate drink for underage guests."
      ],
      "metadata": {
        "id": "cIhCARNRLzKy"
      }
    },
    {
      "cell_type": "code",
      "source": [
        "# Write your answer here.\n",
        "import numpy as np\n",
        "\n",
        "diet = ['vegetarian', 'pescetarian', 'vegetarian', 'omnivore', 'pescetarian', 'keto', 'keto', 'vegan', 'omnivore', 'omnivore', 'vegan', 'omnivore', 'keto', 'vegetarian', 'vegan']\n",
        "age = [21, 20, 19, 25, 27, 18, 23, 25, 19, 22, 20, 20, 23, 21, 24]\n",
        "menu=[]\n",
        "\n",
        "for i in range(len(diet)):\n",
        "    if diet[i] == 'vegetarian' or diet[i] =='vegan' and age[i] >= 21:\n",
        "        menu.append('veg. fried rice with whiskey')\n",
        "    elif diet[i] == 'pescetarian' and age[i] < 21:\n",
        "        menu.append('fish with mocktail')\n",
        "    elif diet[i] == 'pescetarian' and age[i] >= 21:\n",
        "        menu.append('fish and white wine')\n",
        "    elif diet[i] == 'omnivore' or diet[i] =='keto' and age[i] < 21:\n",
        "        menu.append('steak with mocktail')\n",
        "    elif diet[i] == 'omnivore' or diet[i] =='keto' and age[i] >= 21:\n",
        "        menu.append('steak and red wine')\n",
        "\n",
        "print(menu)\n"
      ],
      "metadata": {
        "id": "P7Xuiz6JOR5_",
        "colab": {
          "base_uri": "https://localhost:8080/"
        },
        "outputId": "bd9b706c-e264-4dd6-b512-fc3d5fd5cb7c"
      },
      "execution_count": 13,
      "outputs": [
        {
          "output_type": "stream",
          "name": "stdout",
          "text": [
            "['veg. fried rice with whiskey', 'fish with mocktail', 'veg. fried rice with whiskey', 'steak with mocktail', 'fish and white wine', 'steak with mocktail', 'steak and red wine', 'veg. fried rice with whiskey', 'steak with mocktail', 'steak with mocktail', 'steak with mocktail', 'steak and red wine', 'veg. fried rice with whiskey', 'veg. fried rice with whiskey']\n"
          ]
        }
      ]
    }
  ]
}