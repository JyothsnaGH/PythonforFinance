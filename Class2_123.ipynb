{
  "nbformat": 4,
  "nbformat_minor": 0,
  "metadata": {
    "colab": {
      "provenance": []
    },
    "kernelspec": {
      "name": "python3",
      "display_name": "Python 3"
    },
    "language_info": {
      "name": "python"
    }
  },
  "cells": [
    {
      "cell_type": "code",
      "execution_count": 4,
      "metadata": {
        "colab": {
          "base_uri": "https://localhost:8080/"
        },
        "id": "acCZkw3zy_iY",
        "outputId": "dba17443-b411-42a8-9dbf-06e795376e62"
      },
      "outputs": [
        {
          "output_type": "execute_result",
          "data": {
            "text/plain": [
              "{'first_name': 'Jane',\n",
              " 'last_name': 'Gretsky',\n",
              " 'nationality': 'Canada',\n",
              " 'birth_year': 1961}"
            ]
          },
          "metadata": {},
          "execution_count": 4
        }
      ],
      "source": [
        "person = {\n",
        "    \"first_name\": 'Wayne',\n",
        "    \"last_name\": 'Gretsky',\n",
        "    \"nationality\": 'Canada',\n",
        "    \"birth_year\": 1961\n",
        "}\n",
        "person['first_name']\n",
        "person['first_name'] = 'Jane' # We can change Wayne's name to Jane\n",
        "person"
      ]
    },
    {
      "cell_type": "markdown",
      "source": [
        "# EXERCISE: create a dictionary called car_type with your choice of a car brand, model, year, usnews_rating, and engine size."
      ],
      "metadata": {
        "id": "uTGbYVI40-6u"
      }
    },
    {
      "cell_type": "code",
      "source": [],
      "metadata": {
        "id": "BvYVVKaB0HIg"
      },
      "execution_count": null,
      "outputs": []
    },
    {
      "cell_type": "code",
      "source": [],
      "metadata": {
        "id": "3yKbvSoL1Lp5"
      },
      "execution_count": null,
      "outputs": []
    },
    {
      "cell_type": "code",
      "source": [],
      "metadata": {
        "id": "JGn6Xr3C1LzM"
      },
      "execution_count": null,
      "outputs": []
    }
  ]
}