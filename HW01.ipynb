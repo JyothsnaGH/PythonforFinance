{
  "nbformat": 4,
  "nbformat_minor": 0,
  "metadata": {
    "colab": {
      "provenance": [],
      "authorship_tag": "ABX9TyP8KUl3Bjd8TV/M4ZBr9Bxb",
      "include_colab_link": true
    },
    "kernelspec": {
      "name": "python3",
      "display_name": "Python 3"
    },
    "language_info": {
      "name": "python"
    }
  },
  "cells": [
    {
      "cell_type": "markdown",
      "metadata": {
        "id": "view-in-github",
        "colab_type": "text"
      },
      "source": [
        "<a href=\"https://colab.research.google.com/github/JyothsnaGH/PythonforFinance/blob/main/HW01.ipynb\" target=\"_parent\"><img src=\"https://colab.research.google.com/assets/colab-badge.svg\" alt=\"Open In Colab\"/></a>"
      ]
    },
    {
      "cell_type": "markdown",
      "source": [
        "# HW 01"
      ],
      "metadata": {
        "id": "JaguTAItuC48"
      }
    },
    {
      "cell_type": "markdown",
      "source": [
        "### Q1. Write a program to input your age and print whether you are more than or less than a billion seconds old."
      ],
      "metadata": {
        "id": "8N08oInsuN8g"
      }
    },
    {
      "cell_type": "code",
      "execution_count": null,
      "metadata": {
        "id": "KlPvWPxRuCVz"
      },
      "outputs": [],
      "source": [
        "## Enter answer here.\n",
        "\n"
      ]
    },
    {
      "cell_type": "markdown",
      "source": [
        "### Q2. Create a list with 10 names. Print each name with a Good morning greeting with the name using a conditional loop.\n",
        "\n",
        "For example\n",
        "\n",
        "name = ['Ashley', 'Brianna', 'Chetan', 'David', 'Eoin', 'Francois', 'Gemma', 'Hameed', 'Ishaan', 'Joanna']\n",
        "\n",
        "Outputs will be 'Good morning, Ashley', 'Good morning, Brianna', and so on."
      ],
      "metadata": {
        "id": "X3IPYLTgvnDh"
      }
    },
    {
      "cell_type": "code",
      "source": [
        "## Enter answer here.\n",
        "\n"
      ],
      "metadata": {
        "id": "MFG2cvatvmr2"
      },
      "execution_count": null,
      "outputs": []
    },
    {
      "cell_type": "markdown",
      "source": [
        "### Q3. Create a list of 15 numbers. Print only those numbers that are divisible by 2."
      ],
      "metadata": {
        "id": "niM878Jrx1bf"
      }
    },
    {
      "cell_type": "code",
      "source": [
        "## Enter answer here.\n",
        "\n"
      ],
      "metadata": {
        "id": "m7XjkMn8uUY2"
      },
      "execution_count": null,
      "outputs": []
    },
    {
      "cell_type": "markdown",
      "source": [
        "### Q4. Print the squared numbers of a list containing at least 10 numbers with a mix of float, integer, and negative numbers."
      ],
      "metadata": {
        "id": "u1kyA9ksy_JI"
      }
    },
    {
      "cell_type": "code",
      "source": [
        "## Enter answer here.\n",
        "\n",
        "nums = [0,-1.25,15.86,25,45,-100, 4.5]\n",
        "squares = []\n",
        "\n",
        "for i in nums:\n",
        "    squares.append(i**2)\n",
        "\n",
        "print(squares)\n"
      ],
      "metadata": {
        "colab": {
          "base_uri": "https://localhost:8080/"
        },
        "id": "UFHMdDgEuUbD",
        "outputId": "9208dcdc-9d68-411e-929f-53367bd6377d"
      },
      "execution_count": 7,
      "outputs": [
        {
          "output_type": "stream",
          "name": "stdout",
          "text": [
            "[0, 1.5625, 251.53959999999998, 625, 2025, 10000, 20.25]\n"
          ]
        }
      ]
    },
    {
      "cell_type": "code",
      "source": [],
      "metadata": {
        "id": "QwfOIh36uUeM"
      },
      "execution_count": null,
      "outputs": []
    },
    {
      "cell_type": "code",
      "source": [],
      "metadata": {
        "id": "CwPIZcFQuUhD"
      },
      "execution_count": null,
      "outputs": []
    }
  ]
}