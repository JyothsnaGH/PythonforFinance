{
  "nbformat": 4,
  "nbformat_minor": 0,
  "metadata": {
    "colab": {
      "provenance": [],
      "authorship_tag": "ABX9TyNGCka1l5Uvb396ebgC8T9Q",
      "include_colab_link": true
    },
    "kernelspec": {
      "name": "python3",
      "display_name": "Python 3"
    },
    "language_info": {
      "name": "python"
    }
  },
  "cells": [
    {
      "cell_type": "markdown",
      "metadata": {
        "id": "view-in-github",
        "colab_type": "text"
      },
      "source": [
        "<a href=\"https://colab.research.google.com/github/JyothsnaGH/PythonforFinance/blob/main/HW01.ipynb\" target=\"_parent\"><img src=\"https://colab.research.google.com/assets/colab-badge.svg\" alt=\"Open In Colab\"/></a>"
      ]
    },
    {
      "cell_type": "markdown",
      "source": [
        "# HW 01"
      ],
      "metadata": {
        "id": "JaguTAItuC48"
      }
    },
    {
      "cell_type": "markdown",
      "source": [
        "### Q1. Write a program to input your age and print whether you are more than or less than a billion seconds old."
      ],
      "metadata": {
        "id": "8N08oInsuN8g"
      }
    },
    {
      "cell_type": "code",
      "execution_count": null,
      "metadata": {
        "id": "KlPvWPxRuCVz"
      },
      "outputs": [],
      "source": [
        "## Enter answer here.\n",
        "\n"
      ]
    },
    {
      "cell_type": "markdown",
      "source": [
        "### Q2. Create a list with 10 names. Print each name with a Good morning greeting with the name using a conditional loop.\n",
        "\n",
        "For example\n",
        "\n",
        "name = ['Ashley', 'Brianna', 'Chetan', 'David', 'Eoin', 'Francois', 'Gemma', 'Hameed', 'Ishaan', 'Joanna']\n",
        "\n",
        "Outputs will be 'Good morning, Ashley', 'Good morning, Brianna', and so on."
      ],
      "metadata": {
        "id": "X3IPYLTgvnDh"
      }
    },
    {
      "cell_type": "code",
      "source": [
        "## Enter answer here.\n",
        "\n"
      ],
      "metadata": {
        "id": "MFG2cvatvmr2"
      },
      "execution_count": null,
      "outputs": []
    },
    {
      "cell_type": "markdown",
      "source": [
        "### Q3. Create a list of 15 numbers. Print only those numbers that are divisible by 2."
      ],
      "metadata": {
        "id": "niM878Jrx1bf"
      }
    },
    {
      "cell_type": "code",
      "source": [
        "## Enter answer here.\n",
        "\n"
      ],
      "metadata": {
        "id": "m7XjkMn8uUY2"
      },
      "execution_count": null,
      "outputs": []
    },
    {
      "cell_type": "markdown",
      "source": [
        "### Q4. Print the squared numbers of a list containing at least 10 numbers with a mix of float, integer, and negative numbers. Use the longer method as well as list comprehension."
      ],
      "metadata": {
        "id": "u1kyA9ksy_JI"
      }
    },
    {
      "cell_type": "code",
      "source": [
        "## Enter answer here.\n",
        "\n",
        "nums = [0,-1.25,15.86,-25]\n",
        "method1_squares = []\n",
        "\n",
        "for i in nums:\n",
        "    method1_squares.append(i**2)\n",
        "\n",
        "print(method1_squares)\n"
      ],
      "metadata": {
        "colab": {
          "base_uri": "https://localhost:8080/"
        },
        "id": "UFHMdDgEuUbD",
        "outputId": "f1a37a19-aa1b-4d78-c25b-ea0b16f361ff"
      },
      "execution_count": 2,
      "outputs": [
        {
          "output_type": "stream",
          "name": "stdout",
          "text": [
            "[0, 1.5625, 251.53959999999998, 625]\n"
          ]
        }
      ]
    },
    {
      "cell_type": "markdown",
      "source": [
        "### Q5. Write a program to print a year if it is a leap year."
      ],
      "metadata": {
        "id": "0ZBlFovqA7G9"
      }
    },
    {
      "cell_type": "markdown",
      "source": [],
      "metadata": {
        "id": "OK1ctUfqA6mP"
      }
    },
    {
      "cell_type": "code",
      "source": [
        "year = int(input())\n",
        "\n",
        "if year%4 == 0:\n",
        "    print(year, \"is a leap year\")\n",
        "else:\n",
        "    print(year, \"is not a leap year\")"
      ],
      "metadata": {
        "id": "QwfOIh36uUeM",
        "colab": {
          "base_uri": "https://localhost:8080/"
        },
        "outputId": "db63b1cf-8f27-43b8-f9e2-36d89f5608df"
      },
      "execution_count": null,
      "outputs": [
        {
          "output_type": "stream",
          "name": "stdout",
          "text": [
            "1900\n",
            "1900 is a leap year\n"
          ]
        }
      ]
    },
    {
      "cell_type": "markdown",
      "source": [
        "### Q6. Use list comprensions to print all names in a list in upper case."
      ],
      "metadata": {
        "id": "_FRSvLlgArOJ"
      }
    },
    {
      "cell_type": "code",
      "source": [],
      "metadata": {
        "id": "CwPIZcFQuUhD"
      },
      "execution_count": null,
      "outputs": []
    }
  ]
}